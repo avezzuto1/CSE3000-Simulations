{
 "cells": [
  {
   "metadata": {
    "ExecuteTime": {
     "end_time": "2025-05-08T11:21:56.328081Z",
     "start_time": "2025-05-08T11:21:56.323839Z"
    }
   },
   "cell_type": "code",
   "source": [
    "import copy\n",
    "import math\n",
    "import random\n",
    "import os\n",
    "import re\n",
    "import numpy as np\n",
    "\n",
    "from abc import ABC\n",
    "from typing import List\n",
    "\n",
    "from jmetal.algorithm.multiobjective.nsgaii import NSGAII\n",
    "from jmetal.core.operator import Crossover, Mutation\n",
    "from jmetal.core.problem import IntegerProblem\n",
    "from jmetal.core.solution import IntegerSolution\n",
    "from jmetal.core.solution import Solution\n",
    "from jmetal.util.termination_criterion import StoppingByEvaluations\n",
    "from jmetal.util.solution import print_function_values_to_file, print_variables_to_file"
   ],
   "id": "456af7ae3c972a2f",
   "outputs": [],
   "execution_count": 32
  },
  {
   "metadata": {
    "ExecuteTime": {
     "end_time": "2025-05-08T10:26:52.870744Z",
     "start_time": "2025-05-08T10:26:52.864494Z"
    }
   },
   "cell_type": "code",
   "source": [
    "def dcg(g):\n",
    "    res = copy.deepcopy(g)\n",
    "    for i in range(len(g)):\n",
    "        if i > 0:\n",
    "            res[i] = res[i - 1] + g[i] / math.log2(i + 1)\n",
    "    return res\n",
    "\n",
    "\n",
    "def compute_avg_ndcg(relevance_list: List[int]) -> float:\n",
    "    \"\"\" Computes average nDCG for the fitness function. \"\"\"\n",
    "    l = len(relevance_list)\n",
    "    sorted_scores = sorted(relevance_list, reverse=True)\n",
    "\n",
    "    dcg_vals = dcg(relevance_list)\n",
    "    idcg_vals = dcg(sorted_scores)\n",
    "\n",
    "    dwp_vals = [dcg_vals[i] / idcg_vals[i] if idcg_vals[i] != 0 else 0 for i in range(l)]\n",
    "    return sum(dwp_vals) / l"
   ],
   "id": "e3a6a5716978076d",
   "outputs": [],
   "execution_count": 20
  },
  {
   "metadata": {
    "ExecuteTime": {
     "end_time": "2025-05-08T10:26:52.896536Z",
     "start_time": "2025-05-08T10:26:52.880141Z"
    }
   },
   "cell_type": "code",
   "source": [
    "class RelevanceProfileProblem(IntegerProblem, ABC):\n",
    "    def __init__(self, list_length: int, min_relevance: int, max_relevance: int, target_fitness: float, R: List[int]):\n",
    "        super().__init__()\n",
    "        self.length = list_length\n",
    "        self.lower_bound = [min_relevance] * self.length\n",
    "        self.upper_bound = [max_relevance] * self.length\n",
    "        self.number_of_variables = self.length\n",
    "        self.number_of_objectives = 1\n",
    "        self.number_of_constraints = len(R)\n",
    "        self.target_fitness = target_fitness\n",
    "        self.R = R\n",
    "        \n",
    "    def name(self) -> str:\n",
    "        return \"Relevance Profile Problem, inherits Integer Problem\"\n",
    "        \n",
    "    def number_of_constraints(self) -> int:\n",
    "        return self.number_of_constraints\n",
    "    \n",
    "    def number_of_objectives(self) -> int:\n",
    "        return self.number_of_objectives\n",
    "\n",
    "    def create_solution(self) -> IntegerSolution:\n",
    "        values = [0] * self.length\n",
    "        relevance_counts = np.zeros_like(self.R)\n",
    "        for idx in range(self.length):\n",
    "            g = np.random.geometric(0.7) - 1\n",
    "            \n",
    "            rel = max(self.lower_bound[0], min(g, self.upper_bound[0]))\n",
    "            \n",
    "            if relevance_counts[rel] >= self.R[rel]:\n",
    "                rel = 0\n",
    "            \n",
    "            relevance_counts[rel] += 1\n",
    "            values[idx] = rel\n",
    "                \n",
    "        solution = IntegerSolution(\n",
    "            lower_bound=self.lower_bound,\n",
    "            upper_bound=self.upper_bound,\n",
    "            number_of_objectives=self.number_of_objectives,\n",
    "            number_of_constraints=self.number_of_constraints\n",
    "        )\n",
    "        solution.variables = values\n",
    "        return solution\n",
    "    \n",
    "    def evaluate(self, solution: IntegerSolution) -> None:\n",
    "        \"\"\" Evaluate the solution based on average nDCG with respect to target fitness. \"\"\"\n",
    "        relevance_counts = np.unique(solution.variables, return_counts=True)[0]\n",
    "        \n",
    "        if np.any(relevance_counts > self.R):\n",
    "            solution.objectives[0] = float('inf')\n",
    "            return\n",
    "        \n",
    "        andcg = compute_avg_ndcg(solution.variables)\n",
    "        solution.objectives[0] = abs(self.target_fitness - andcg)\n"
   ],
   "id": "9e90573410e4ff42",
   "outputs": [],
   "execution_count": 21
  },
  {
   "metadata": {
    "ExecuteTime": {
     "end_time": "2025-05-08T10:26:52.904875Z",
     "start_time": "2025-05-08T10:26:52.896536Z"
    }
   },
   "cell_type": "code",
   "source": [
    "class CustomCrossover(Crossover, ABC):\n",
    "    def __init__(self, L: int):\n",
    "        super().__init__(probability=1.0)  # Always apply\n",
    "        self.L = L\n",
    "        \n",
    "    def get_name(self) -> str:\n",
    "        return \"Custom Crossover for ranking profiles. \"\n",
    "    \n",
    "    def get_number_of_parents(self) -> int:\n",
    "        return 2\n",
    "    \n",
    "    def get_number_of_children(self) -> int:\n",
    "        return 2\n",
    "\n",
    "    def execute(self, parents: List[Solution] )-> List[Solution]:\n",
    "        \"\"\" Executes the crossover, by either adding or multiplying items from two parent solutions. \"\"\"\n",
    "        parent1, parent2 = parents[0].variables, parents[1].variables\n",
    "        child1, child2 = [], []\n",
    "        for a, b in zip(parent1, parent2):\n",
    "            if random.random() < 0.5:\n",
    "                c1 = (a + b) % (self.L + 1)\n",
    "                c2 = (a * b) % (self.L + 1)\n",
    "            else:\n",
    "                c1 = (a * b) % (self.L + 1)\n",
    "                c2 = (a + b) % (self.L + 1)\n",
    "            child1.append(c1)\n",
    "            child2.append(c2)\n",
    "\n",
    "        offspring1 = copy.deepcopy(parents[0])\n",
    "        offspring2 = copy.deepcopy(parents[1])\n",
    "        offspring1.variables = child1\n",
    "        offspring2.variables = child2\n",
    "        return [offspring1, offspring2]\n",
    "\n",
    "class CustomMutation(Mutation, ABC):\n",
    "    def __init__(self, probability, L: int):\n",
    "        super().__init__(probability)\n",
    "        self.L = L\n",
    "        \n",
    "    def get_name(self) -> str:\n",
    "        return \"Custom Mutation for ranking profiles. \"\n",
    "\n",
    "    def execute(self, solution: Solution) -> Solution:\n",
    "        \"\"\" Executes the mutation, by randomly swapping two items in a solution or adding a random quantity to an item. \"\"\"\n",
    "        for i in range(len(solution.variables)):\n",
    "            if random.random() < self.probability:\n",
    "                if random.random() < 0.5:\n",
    "                    # Swap the selected index with another random index\n",
    "                    j = random.randint(0, len(solution.variables) - 1)\n",
    "                    solution.variables[i], solution.variables[j] = solution.variables[j], solution.variables[i]\n",
    "                else:\n",
    "                    # Add a random quantity mod L + 1 to the selected index\n",
    "                    solution.variables[i] = (solution.variables[i] + random.randint(0, self.L)) % (self.L + 1)\n",
    "        return solution\n"
   ],
   "id": "d9662eff5cf70002",
   "outputs": [],
   "execution_count": 22
  },
  {
   "metadata": {
    "ExecuteTime": {
     "end_time": "2025-05-08T11:27:06.618916Z",
     "start_time": "2025-05-08T11:27:06.598909Z"
    }
   },
   "cell_type": "code",
   "source": [
    "target_ndcgs = {}\n",
    "\n",
    "data_dir = './data'\n",
    "for filename in os.listdir(data_dir):\n",
    "   with open(os.path.join(data_dir, filename), 'r') as f:\n",
    "       for line in f:\n",
    "           parts = re.split(r'\\s+', line.strip())\n",
    "           if len(parts) >= 2:\n",
    "               key = parts[0]\n",
    "               value = parts[2]\n",
    "               if key == 'runid':\n",
    "                   target_ndcgs[value] = 0\n",
    "               if key == 'ndcg':\n",
    "                   target_ndcgs[list(target_ndcgs.keys())[-1]] = value\n",
    "                   \n",
    "print(target_ndcgs)"
   ],
   "id": "2313155f756e74d1",
   "outputs": [
    {
     "name": "stdout",
     "output_type": "stream",
     "text": [
      "{'agg-cocondenser': '0.3519', 'bm25_splades': '0.3848', 'cip_run_1': '0.4834', 'cip_run_2': '0.4834', 'cip_run_3': '0.4688'}\n"
     ]
    }
   ],
   "execution_count": 36
  },
  {
   "metadata": {
    "ExecuteTime": {
     "end_time": "2025-05-08T10:26:53.218590Z",
     "start_time": "2025-05-08T10:26:52.904875Z"
    }
   },
   "cell_type": "code",
   "source": [
    "min_relevance = 0\n",
    "max_relevance = 3\n",
    "R = [float('inf'), 50, 50, 50]\n",
    "assert len(R) == max_relevance + 1 - min_relevance\n",
    "problem = RelevanceProfileProblem(list_length= 100, min_relevance=min_relevance, max_relevance=max_relevance, target_fitness=0.8, R=R)\n",
    "L = max_relevance - min_relevance\n",
    "\n",
    "algorithm = NSGAII(\n",
    "    problem=problem,\n",
    "    population_size=10,\n",
    "    offspring_population_size=10,\n",
    "    mutation=CustomMutation(probability=1.0, L=L),\n",
    "    crossover=CustomCrossover(L=L),\n",
    "    termination_criterion=StoppingByEvaluations(max_evaluations=1000)\n",
    ")\n",
    "\n",
    "algorithm.run()\n",
    "result = algorithm.result()\n",
    "\n",
    "print_function_values_to_file(result, 'FUN')\n",
    "print_variables_to_file(result, 'VAR')\n"
   ],
   "id": "f3d6ee80c3fb07ef",
   "outputs": [
    {
     "name": "stderr",
     "output_type": "stream",
     "text": [
      "[2025-05-08 12:26:52,904] [jmetal.core.algorithm] [DEBUG] Creating initial set of solutions...\n",
      "[2025-05-08 12:26:52,904] [jmetal.core.algorithm] [DEBUG] Evaluating solutions...\n",
      "[2025-05-08 12:26:52,911] [jmetal.core.algorithm] [DEBUG] Initializing progress...\n",
      "[2025-05-08 12:26:52,911] [jmetal.core.algorithm] [DEBUG] Running main loop until termination criteria is met\n",
      "[2025-05-08 12:26:53,203] [jmetal.core.algorithm] [DEBUG] Finished!\n",
      "[2025-05-08 12:26:53,203] [jmetal.util.solution] [INFO] Output file (function values): FUN\n",
      "[2025-05-08 12:26:53,203] [jmetal.util.solution] [INFO] Output file (variables): VAR\n"
     ]
    }
   ],
   "execution_count": 23
  }
 ],
 "metadata": {
  "kernelspec": {
   "display_name": "Python 3",
   "language": "python",
   "name": "python3"
  },
  "language_info": {
   "codemirror_mode": {
    "name": "ipython",
    "version": 2
   },
   "file_extension": ".py",
   "mimetype": "text/x-python",
   "name": "python",
   "nbconvert_exporter": "python",
   "pygments_lexer": "ipython2",
   "version": "2.7.6"
  }
 },
 "nbformat": 4,
 "nbformat_minor": 5
}
